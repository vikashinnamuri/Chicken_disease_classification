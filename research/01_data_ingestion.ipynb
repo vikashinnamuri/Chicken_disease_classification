{
 "cells": [
  {
   "cell_type": "code",
   "execution_count": 1,
   "metadata": {},
   "outputs": [],
   "source": [
    "import os"
   ]
  },
  {
   "cell_type": "code",
   "execution_count": 2,
   "metadata": {},
   "outputs": [
    {
     "data": {
      "text/plain": [
       "'/Users/vikashinnamuri/Desktop/Chicken_disease_classification/research'"
      ]
     },
     "execution_count": 2,
     "metadata": {},
     "output_type": "execute_result"
    }
   ],
   "source": [
    "%pwd"
   ]
  },
  {
   "cell_type": "code",
   "execution_count": 3,
   "metadata": {},
   "outputs": [],
   "source": [
    "os.chdir('../')"
   ]
  },
  {
   "cell_type": "code",
   "execution_count": 4,
   "metadata": {},
   "outputs": [
    {
     "data": {
      "text/plain": [
       "'/Users/vikashinnamuri/Desktop/Chicken_disease_classification'"
      ]
     },
     "execution_count": 4,
     "metadata": {},
     "output_type": "execute_result"
    }
   ],
   "source": [
    "%pwd"
   ]
  },
  {
   "cell_type": "markdown",
   "metadata": {},
   "source": [
    "Entity is an return type of an function and what is type of an  funtion"
   ]
  },
  {
   "cell_type": "code",
   "execution_count": 11,
   "metadata": {},
   "outputs": [],
   "source": [
    "from dataclasses import dataclass\n",
    "from pathlib import Path\n",
    "\n",
    "@dataclass(frozen=True) #this code  in Python is used to define a data class where instances are immutable\n",
    "class DataIngestionConfig:\n",
    "    root_dir: Path\n",
    "    source_url: str\n",
    "    local_data_file: Path\n",
    "    unzip_dir: Path\n",
    "    "
   ]
  },
  {
   "cell_type": "code",
   "execution_count": 12,
   "metadata": {},
   "outputs": [],
   "source": [
    "from src.cnnClassifier.constants import *\n",
    "from src.cnnClassifier.utils.common import read_yaml,create_directories   # used to read the yaml file and create the dict"
   ]
  },
  {
   "cell_type": "code",
   "execution_count": 13,
   "metadata": {},
   "outputs": [],
   "source": [
    "class ConfigurationManager:\n",
    "    def __init__(\n",
    "        self,\n",
    "        config_filepath=CONFIG_FILE_PATH,\n",
    "        param_filepath=PARAMS_FILE_PATH):\n",
    "        \n",
    "        self.config= read_yaml(config_filepath)\n",
    "        self.params=read_yaml(param_filepath)\n",
    "        \n",
    "        create_directories([self.config.artifacts_root],verbose=True)\n",
    "        \n",
    "    def get_data_ingestion_config(self)-> DataIngestionConfig:\n",
    "        config = self.config.data_ingestion\n",
    "        \n",
    "        create_directories([config.root_dir],verbose=True)\n",
    "        \n",
    "        data_ingestion_config= DataIngestionConfig(\n",
    "            root_dir=config.root_dir,\n",
    "            source_url=config.source_url,\n",
    "            local_data_file=config.local_data_file,\n",
    "            unzip_dir=config.unzip_dir\n",
    "        )\n",
    "        return data_ingestion_config"
   ]
  },
  {
   "cell_type": "code",
   "execution_count": 14,
   "metadata": {},
   "outputs": [],
   "source": [
    "import os \n",
    "import  urllib.request as request  #used to download the file from the url\n",
    "import zipfile  # used for unzip file \n",
    "from src.cnnClassifier import logger  #used to enter the loggers into logs folders\n",
    "from src.cnnClassifier.utils.common import get_size # this gives the size of the file "
   ]
  },
  {
   "cell_type": "code",
   "execution_count": 26,
   "metadata": {},
   "outputs": [],
   "source": [
    "class DataIngestion:\n",
    "    def __init__(self,config: DataIngestionConfig):\n",
    "        self.config = config\n",
    "    def download_file(self):\n",
    "        if not os.path.exists(self.config.local_data_file):\n",
    "            filename,header=request.urlretrieve(\n",
    "                url=self.config.source_url,\n",
    "                filename=self.config.local_data_file\n",
    "            )\n",
    "            logger.info(f\"{filename} download! with the info of:\\n {header}\")\n",
    "        else:\n",
    "            logger.info(f\"The file already exisit with the size of{get_size(Path(self.config.local_data_file))}\")\n",
    "            \n",
    "    def extract_unzip_file(self):\n",
    "        \"\"\"_summary_\n",
    "        \n",
    "            zip_file_path:str\n",
    "            extract the zip file data into the data dictornary \n",
    "            functio return none\n",
    "        \"\"\"\n",
    "        unzip_path=self.config.unzip_dir\n",
    "        os.makedirs(unzip_path,exist_ok=True)\n",
    "        with zipfile.ZipFile(self.config.local_data_file,'r') as zip_ref:\n",
    "            zip_ref.extractall(unzip_path)\n",
    "            \n",
    "          \n",
    "                "
   ]
  },
  {
   "cell_type": "code",
   "execution_count": 31,
   "metadata": {},
   "outputs": [
    {
     "name": "stdout",
     "output_type": "stream",
     "text": [
      "[2024-08-27 12:42:40,710: INFO: common:  yaml file:config/config.yaml successfully loaded]\n",
      "[2024-08-27 12:42:40,713: INFO: common:  yaml file:params.yaml successfully loaded]\n",
      "[2024-08-27 12:42:40,713: INFO: common: Created directories at: artifacts]\n",
      "[2024-08-27 12:42:40,714: INFO: common: Created directories at: artifacts/data_ingestion]\n",
      "[2024-08-27 12:42:51,595: INFO: 1878931494: artifacts/data_ingestion/data.zip download! with the info of:\n",
      " Connection: close\n",
      "Content-Length: 11796101\n",
      "Cache-Control: max-age=300\n",
      "Content-Security-Policy: default-src 'none'; style-src 'unsafe-inline'; sandbox\n",
      "Content-Type: application/zip\n",
      "ETag: \"1b7ec9a8532f79337dbb964fdff0c684cd581eda3c38637a7a48630d3169b282\"\n",
      "Strict-Transport-Security: max-age=31536000\n",
      "X-Content-Type-Options: nosniff\n",
      "X-Frame-Options: deny\n",
      "X-XSS-Protection: 1; mode=block\n",
      "X-GitHub-Request-Id: E196:9F5AF:7EBA2:A880B:66CD76ED\n",
      "Accept-Ranges: bytes\n",
      "Date: Tue, 27 Aug 2024 07:12:41 GMT\n",
      "Via: 1.1 varnish\n",
      "X-Served-By: cache-hyd1100029-HYD\n",
      "X-Cache: HIT\n",
      "X-Cache-Hits: 0\n",
      "X-Timer: S1724742761.416105,VS0,VE282\n",
      "Vary: Authorization,Accept-Encoding,Origin\n",
      "Access-Control-Allow-Origin: *\n",
      "Cross-Origin-Resource-Policy: cross-origin\n",
      "X-Fastly-Request-ID: 8b3b527824ad19785e02643f30dc9ef15283e676\n",
      "Expires: Tue, 27 Aug 2024 07:17:41 GMT\n",
      "Source-Age: 0\n",
      "\n",
      "]\n"
     ]
    }
   ],
   "source": [
    "#pipeline\n",
    "\n",
    "try:\n",
    "    config = ConfigurationManager()\n",
    "    data_ingestion_config = config.get_data_ingestion_config()\n",
    "    data_ingestion = DataIngestion(config=data_ingestion_config)\n",
    "    data_ingestion.download_file()\n",
    "    data_ingestion.extract_unzip_file()\n",
    "except Exception as e:\n",
    "    raise e \n",
    "    \n",
    "    "
   ]
  },
  {
   "cell_type": "code",
   "execution_count": null,
   "metadata": {},
   "outputs": [],
   "source": []
  },
  {
   "cell_type": "code",
   "execution_count": null,
   "metadata": {},
   "outputs": [],
   "source": []
  }
 ],
 "metadata": {
  "kernelspec": {
   "display_name": "chicken",
   "language": "python",
   "name": "python3"
  },
  "language_info": {
   "codemirror_mode": {
    "name": "ipython",
    "version": 3
   },
   "file_extension": ".py",
   "mimetype": "text/x-python",
   "name": "python",
   "nbconvert_exporter": "python",
   "pygments_lexer": "ipython3",
   "version": "3.8.19"
  }
 },
 "nbformat": 4,
 "nbformat_minor": 2
}
